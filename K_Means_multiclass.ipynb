{
  "cells": [
    {
      "cell_type": "code",
      "execution_count": 29,
      "metadata": {
        "id": "3IYnqVfDHdnY"
      },
      "outputs": [],
      "source": [
        "import os\n",
        "import pandas as pd\n",
        "\n",
        "import copy, math\n",
        "import numpy as np\n",
        "import matplotlib.pyplot as plt\n",
        "\n",
        "df = pd.read_csv('multi_classification_train.csv')\n",
        "\n",
        "\n",
        "X_train = df.iloc[1:4000,1:-2].values\n",
        "y_train = df.iloc[1:4000,-1].values\n",
        "\n",
        "# K-Means clustering\n",
        "\n",
        "def find_closest_centroids(X, centroids):\n",
        "\n",
        "  # Set K\n",
        "  K = centroids.shape[0]\n",
        "\n",
        "  # You need to return the following variables correctly\n",
        "  idx = np.zeros(X.shape[0], dtype=int)\n",
        "  for i in range(X.shape[0]):\n",
        "     #Array to hold distance between X[i] and each centroids[j]\n",
        "     distance = []\n",
        "     for j in range(centroids.shape[0]):\n",
        "      norm_ij = np.linalg.norm(X[i] - centroids[j, :X.shape[1]])  # Your code to calculate the norm between (X[i] - centroids[j])\n",
        "      distance.append(norm_ij)\n",
        "\n",
        "     idx[i] = np.argmin(distance) # Your code here to calculate index of minimum value in distance\n",
        "\n",
        "  return idx\n",
        "\n",
        "def compute_centroids(X,idx,K):\n",
        "  # Useful variables\n",
        "  m, n = X.shape\n",
        "  # You need to return the following variables correctly\n",
        "  centroids = np.zeros((K, n))\n",
        "\n",
        "    ### START CODE HERE ###\n",
        "  for k in range(K):\n",
        "\n",
        "    points = X[idx==k] # Your code here to get a list of all data points in X assigned to centroid k\n",
        "    centroids[k] =  np.mean(points, axis = 0) # Your code here to compute the mean of the points assigne\n",
        "\n",
        "  return centroids\n",
        "\n",
        "\n",
        "def compute_cost_kmeans(X, idx, K, centroids):\n",
        "  cost=0\n",
        "  m = X.shape[0]\n",
        "  for i in range(m):\n",
        "    cost += np.linalg.norm(X[i] - centroids[idx[i]])\n",
        "  cost = cost/m\n",
        "  return cost\n",
        "\n",
        "\n",
        "def kMeans_init_centroids(X, K):\n",
        "\n",
        "  m, n = X.shape\n",
        "  centroids = np.zeros((K, n))\n",
        "  # Randomly reorder the indices of examples\n",
        "  randidx = np.random.permutation(m)\n",
        "  # Take the first K examples as centroids\n",
        "  centroids = X[randidx[:K]]\n",
        "\n",
        "  return centroids\n",
        "\n",
        "\n",
        "def k_means(X, initial_centroids, max_iters):\n",
        "\n",
        "  # Initialize values\n",
        "  m, n = X.shape\n",
        "  K = initial_centroids.shape[0]\n",
        "  centroids = initial_centroids\n",
        "  previous_centroids = centroids\n",
        "  idx = np.zeros(m)\n",
        "\n",
        "  #  Run K-Means\n",
        "  for i in range(max_iters):\n",
        "\n",
        "    # For each example in X, assign it to the closest centroid\n",
        "    idx = find_closest_centroids(X, centroids)\n",
        "\n",
        "    # Given the memberships, compute new centroids\n",
        "    centroids = compute_centroids(X, idx, K)\n",
        "\n",
        "  return centroids, idx\n",
        "\n",
        "def run_kmeans(X,K, max_iters):\n",
        "\n",
        "    for i in range(100):\n",
        "        centroids_i = []\n",
        "        J_history = []\n",
        "        centroids_f = []\n",
        "        centroids = kMeans_init_centroids(X, K)\n",
        "        for j in range(max_iters):\n",
        "           idx = find_closest_centroids(X, centroids)\n",
        "           centroids = compute_centroids(X, idx, K)\n",
        "           centroids_i.append(centroids)\n",
        "           if j== max_iters - 1 :\n",
        "             centroids_f.append(centroids_i[j])\n",
        "\n",
        "\n",
        "        J_history.append(compute_cost_kmeans(X, idx, K, centroids_f[-1]))\n",
        "    min_cost_index = np.argmin(J_history)\n",
        "    centroids_final.append(centroids_f[min_cost_index])\n",
        "\n",
        "\n",
        "    return centroids_final\n",
        "\n",
        "\n",
        "\n",
        "centroids_final= run_kmeans(X_train, 5,10)\n",
        "\n",
        "\n",
        "\n",
        "\n",
        "\n",
        "\n"
      ]
    },
    {
      "cell_type": "code",
      "source": [
        "# calculating predictions\n",
        "idx = np.zeros((X_train.shape[0],len(centroids_final)))\n",
        "for i in range(len(centroids_final)):\n",
        "  idx[:,i] =  find_closest_centroids(X_train, centroids_final[i])\n",
        "\n"
      ],
      "metadata": {
        "id": "L6DCjKSh8alA"
      },
      "execution_count": 30,
      "outputs": []
    },
    {
      "cell_type": "code",
      "execution_count": 31,
      "metadata": {
        "colab": {
          "base_uri": "https://localhost:8080/"
        },
        "id": "11ae6V-7PNtV",
        "outputId": "b5c0a3dc-4d50-4214-f789-730dfd5eef3e"
      },
      "outputs": [
        {
          "output_type": "stream",
          "name": "stdout",
          "text": [
            "[1022.  883.  457.  415.  473. 1247.  886.  914. 1232. 1219. 1371.  552.\n",
            " 1310.  792.  798.  159.  292. 1111.  808.  424.]\n",
            "[[ -65.8640204   -62.76205429   87.36919131  230.12232927   80.17401119\n",
            "    78.53852578   59.82645192   55.14555539  -74.83418286   23.52072325\n",
            "    27.62111922   27.85802633   99.00361325 -160.88233809  -31.46641445\n",
            "    -6.36857303  -34.50121484  -35.91730576  -92.62769895]\n",
            " [ -66.30658433   -2.77512729   83.74554469 -123.40369338   82.743717\n",
            "    79.82961559   36.94267064  -50.33763547  -53.48451657   -2.07075978\n",
            "    44.26522357   76.29624945   52.79489705    9.90911882 -116.36278454\n",
            "    84.13953198  -65.4052994   -35.78607405  -95.05108342]\n",
            " [ -74.49751469  -32.02859084   87.38582639  146.03836804   83.84462711\n",
            "    77.14352328  -21.43320709   23.78854966 -163.39365971   89.56782032\n",
            "    34.89949195   49.03978744   64.41682895   11.77975875 -137.70446345\n",
            "    -9.50395432  -57.24285105  -29.26278941  -95.1534837 ]\n",
            " [ -75.98226874  -55.35125242   86.91812321   60.89538286   82.41943769\n",
            "    75.28336742   -3.04943694   -8.9336979   -32.42520927 -187.43684065\n",
            "    36.28052296   53.05890959   55.71577366 -120.77142578 -109.42277498\n",
            "    19.62517784  -16.53457831  -31.31267439  -94.3935482 ]\n",
            " [ -70.56167239   -2.82313723   85.74999702   47.12081301   82.22475769\n",
            "    79.5836509    43.08170845  120.66175295   20.83524183  -27.97659669\n",
            "    29.06736826   32.06694812  102.25166205  -92.52466202   70.07114611\n",
            "   -30.17106223  -94.04108986  -45.83892301  -92.68781336]]\n"
          ]
        }
      ],
      "source": [
        "# calculating accuracy\n",
        "\n",
        "count= np.zeros(len(centroids_final))\n",
        "\n",
        "for i in range(len(centroids_final)):\n",
        "    idx = find_closest_centroids(X_train, centroids_final[i])\n",
        "    for j in range(X_train.shape[0]):\n",
        "        if idx[j] == y_train[j]:  # Directly compare cluster assignment to true label\n",
        "            count[i] += 1\n",
        "\n",
        "print(count)\n",
        "\n",
        "best_centroid_index = np.argmax(count)\n",
        "best_centroids = centroids_final[best_centroid_index]\n",
        "print(best_centroids)"
      ]
    },
    {
      "cell_type": "code",
      "source": [
        "# predictions of the training  set\n",
        "\n",
        "df_test = pd.read_csv(\"multi_classification_test.csv\")\n",
        "X_test = df_test.iloc[1:,1:-2].values\n",
        "\n",
        "X_test_adjusted = X_test[:, :best_centroids.shape[1]]\n",
        "y_pred = find_closest_centroids(X_test_adjusted, best_centroids)\n",
        "\n",
        "print(y_pred)\n"
      ],
      "metadata": {
        "colab": {
          "base_uri": "https://localhost:8080/"
        },
        "id": "WvBa0zb-EP9c",
        "outputId": "4d94d42e-a8cf-42ce-d53a-ded15309b437"
      },
      "execution_count": 32,
      "outputs": [
        {
          "output_type": "stream",
          "name": "stdout",
          "text": [
            "[1 1 2 ... 2 3 2]\n"
          ]
        }
      ]
    },
    {
      "cell_type": "code",
      "source": [],
      "metadata": {
        "id": "vpenVPAew4JW"
      },
      "execution_count": null,
      "outputs": []
    }
  ],
  "metadata": {
    "colab": {
      "provenance": []
    },
    "kernelspec": {
      "display_name": "Python 3",
      "name": "python3"
    },
    "language_info": {
      "name": "python"
    }
  },
  "nbformat": 4,
  "nbformat_minor": 0
}